{
 "metadata": {
  "language_info": {
   "codemirror_mode": {
    "name": "ipython",
    "version": 3
   },
   "file_extension": ".py",
   "mimetype": "text/x-python",
   "name": "python",
   "nbconvert_exporter": "python",
   "pygments_lexer": "ipython3",
   "version": "3.8.3-final"
  },
  "orig_nbformat": 2,
  "kernelspec": {
   "name": "Python 3.8.3 64-bit ('base': conda)",
   "display_name": "Python 3.8.3 64-bit ('base': conda)",
   "metadata": {
    "interpreter": {
     "hash": "ec52e35cbadde383e76887bf156a3d142d1ed012c2f29b766319110f28479c8f"
    }
   }
  }
 },
 "nbformat": 4,
 "nbformat_minor": 2,
 "cells": [
  {
   "cell_type": "code",
   "execution_count": 28,
   "metadata": {},
   "outputs": [],
   "source": [
    "import tensorflow"
   ]
  },
  {
   "cell_type": "code",
   "execution_count": 29,
   "metadata": {},
   "outputs": [],
   "source": [
    "import tensorflow.compat.v1 as tf\n",
    "tf.disable_v2_behavior()"
   ]
  },
  {
   "cell_type": "code",
   "execution_count": 33,
   "metadata": {},
   "outputs": [],
   "source": [
    "a = tf.constant([[-1.0, 7.0, 5.0]], name = 'entry')\n",
    "b = tf.constant([[0.8, 0.1, 0.0]], name = 'weights')\n",
    "m = tf.multiply(a, b)\n",
    "s = tf.reduce_sum(m)"
   ]
  },
  {
   "cell_type": "code",
   "execution_count": 34,
   "metadata": {},
   "outputs": [
    {
     "output_type": "stream",
     "name": "stdout",
     "text": [
      "[[-1.  7.  5.]] \n\n[[0.8 0.1 0. ]] \n\n[[-0.8  0.7  0. ]] \n\n-0.100000024\n"
     ]
    }
   ],
   "source": [
    "with tf.Session() as sess:\n",
    "    print(sess.run(a), '\\n')\n",
    "    print(sess.run(b), '\\n')\n",
    "    print(sess.run(m), '\\n')\n",
    "    print(sess.run(s))"
   ]
  }
 ]
}