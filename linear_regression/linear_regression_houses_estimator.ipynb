{
 "metadata": {
  "language_info": {
   "codemirror_mode": {
    "name": "ipython",
    "version": 3
   },
   "file_extension": ".py",
   "mimetype": "text/x-python",
   "name": "python",
   "nbconvert_exporter": "python",
   "pygments_lexer": "ipython3",
   "version": "3.8.3-final"
  },
  "orig_nbformat": 2,
  "kernelspec": {
   "name": "Python 3.8.3 64-bit ('base': conda)",
   "display_name": "Python 3.8.3 64-bit ('base': conda)",
   "metadata": {
    "interpreter": {
     "hash": "ec52e35cbadde383e76887bf156a3d142d1ed012c2f29b766319110f28479c8f"
    }
   }
  }
 },
 "nbformat": 4,
 "nbformat_minor": 2,
 "cells": [
  {
   "cell_type": "code",
   "execution_count": 1,
   "metadata": {},
   "outputs": [
    {
     "output_type": "execute_result",
     "data": {
      "text/plain": [
       "           id             date     price  bedrooms  bathrooms  sqft_living  \\\n",
       "0  7129300520  20141013T000000  221900.0         3       1.00         1180   \n",
       "1  6414100192  20141209T000000  538000.0         3       2.25         2570   \n",
       "2  5631500400  20150225T000000  180000.0         2       1.00          770   \n",
       "3  2487200875  20141209T000000  604000.0         4       3.00         1960   \n",
       "4  1954400510  20150218T000000  510000.0         3       2.00         1680   \n",
       "\n",
       "   sqft_lot  floors  waterfront  view  ...  grade  sqft_above  sqft_basement  \\\n",
       "0      5650     1.0           0     0  ...      7        1180              0   \n",
       "1      7242     2.0           0     0  ...      7        2170            400   \n",
       "2     10000     1.0           0     0  ...      6         770              0   \n",
       "3      5000     1.0           0     0  ...      7        1050            910   \n",
       "4      8080     1.0           0     0  ...      8        1680              0   \n",
       "\n",
       "   yr_built  yr_renovated  zipcode      lat     long  sqft_living15  \\\n",
       "0      1955             0    98178  47.5112 -122.257           1340   \n",
       "1      1951          1991    98125  47.7210 -122.319           1690   \n",
       "2      1933             0    98028  47.7379 -122.233           2720   \n",
       "3      1965             0    98136  47.5208 -122.393           1360   \n",
       "4      1987             0    98074  47.6168 -122.045           1800   \n",
       "\n",
       "   sqft_lot15  \n",
       "0        5650  \n",
       "1        7639  \n",
       "2        8062  \n",
       "3        5000  \n",
       "4        7503  \n",
       "\n",
       "[5 rows x 21 columns]"
      ],
      "text/html": "<div>\n<style scoped>\n    .dataframe tbody tr th:only-of-type {\n        vertical-align: middle;\n    }\n\n    .dataframe tbody tr th {\n        vertical-align: top;\n    }\n\n    .dataframe thead th {\n        text-align: right;\n    }\n</style>\n<table border=\"1\" class=\"dataframe\">\n  <thead>\n    <tr style=\"text-align: right;\">\n      <th></th>\n      <th>id</th>\n      <th>date</th>\n      <th>price</th>\n      <th>bedrooms</th>\n      <th>bathrooms</th>\n      <th>sqft_living</th>\n      <th>sqft_lot</th>\n      <th>floors</th>\n      <th>waterfront</th>\n      <th>view</th>\n      <th>...</th>\n      <th>grade</th>\n      <th>sqft_above</th>\n      <th>sqft_basement</th>\n      <th>yr_built</th>\n      <th>yr_renovated</th>\n      <th>zipcode</th>\n      <th>lat</th>\n      <th>long</th>\n      <th>sqft_living15</th>\n      <th>sqft_lot15</th>\n    </tr>\n  </thead>\n  <tbody>\n    <tr>\n      <th>0</th>\n      <td>7129300520</td>\n      <td>20141013T000000</td>\n      <td>221900.0</td>\n      <td>3</td>\n      <td>1.00</td>\n      <td>1180</td>\n      <td>5650</td>\n      <td>1.0</td>\n      <td>0</td>\n      <td>0</td>\n      <td>...</td>\n      <td>7</td>\n      <td>1180</td>\n      <td>0</td>\n      <td>1955</td>\n      <td>0</td>\n      <td>98178</td>\n      <td>47.5112</td>\n      <td>-122.257</td>\n      <td>1340</td>\n      <td>5650</td>\n    </tr>\n    <tr>\n      <th>1</th>\n      <td>6414100192</td>\n      <td>20141209T000000</td>\n      <td>538000.0</td>\n      <td>3</td>\n      <td>2.25</td>\n      <td>2570</td>\n      <td>7242</td>\n      <td>2.0</td>\n      <td>0</td>\n      <td>0</td>\n      <td>...</td>\n      <td>7</td>\n      <td>2170</td>\n      <td>400</td>\n      <td>1951</td>\n      <td>1991</td>\n      <td>98125</td>\n      <td>47.7210</td>\n      <td>-122.319</td>\n      <td>1690</td>\n      <td>7639</td>\n    </tr>\n    <tr>\n      <th>2</th>\n      <td>5631500400</td>\n      <td>20150225T000000</td>\n      <td>180000.0</td>\n      <td>2</td>\n      <td>1.00</td>\n      <td>770</td>\n      <td>10000</td>\n      <td>1.0</td>\n      <td>0</td>\n      <td>0</td>\n      <td>...</td>\n      <td>6</td>\n      <td>770</td>\n      <td>0</td>\n      <td>1933</td>\n      <td>0</td>\n      <td>98028</td>\n      <td>47.7379</td>\n      <td>-122.233</td>\n      <td>2720</td>\n      <td>8062</td>\n    </tr>\n    <tr>\n      <th>3</th>\n      <td>2487200875</td>\n      <td>20141209T000000</td>\n      <td>604000.0</td>\n      <td>4</td>\n      <td>3.00</td>\n      <td>1960</td>\n      <td>5000</td>\n      <td>1.0</td>\n      <td>0</td>\n      <td>0</td>\n      <td>...</td>\n      <td>7</td>\n      <td>1050</td>\n      <td>910</td>\n      <td>1965</td>\n      <td>0</td>\n      <td>98136</td>\n      <td>47.5208</td>\n      <td>-122.393</td>\n      <td>1360</td>\n      <td>5000</td>\n    </tr>\n    <tr>\n      <th>4</th>\n      <td>1954400510</td>\n      <td>20150218T000000</td>\n      <td>510000.0</td>\n      <td>3</td>\n      <td>2.00</td>\n      <td>1680</td>\n      <td>8080</td>\n      <td>1.0</td>\n      <td>0</td>\n      <td>0</td>\n      <td>...</td>\n      <td>8</td>\n      <td>1680</td>\n      <td>0</td>\n      <td>1987</td>\n      <td>0</td>\n      <td>98074</td>\n      <td>47.6168</td>\n      <td>-122.045</td>\n      <td>1800</td>\n      <td>7503</td>\n    </tr>\n  </tbody>\n</table>\n<p>5 rows × 21 columns</p>\n</div>"
     },
     "metadata": {},
     "execution_count": 1
    }
   ],
   "source": [
    "import pandas as pd\n",
    "base = pd.read_csv('house_prices.csv')\n",
    "base.head()"
   ]
  },
  {
   "cell_type": "code",
   "execution_count": 2,
   "metadata": {},
   "outputs": [
    {
     "output_type": "execute_result",
     "data": {
      "text/plain": [
       "(21613, 21)"
      ]
     },
     "metadata": {},
     "execution_count": 2
    }
   ],
   "source": [
    "base.shape"
   ]
  },
  {
   "cell_type": "code",
   "execution_count": 3,
   "metadata": {},
   "outputs": [],
   "source": [
    "X = base.iloc[:, 5:6]\n",
    "y = base.iloc[:, 2:3]"
   ]
  },
  {
   "cell_type": "code",
   "execution_count": 4,
   "metadata": {},
   "outputs": [],
   "source": [
    "from sklearn.preprocessing import StandardScaler\n",
    "scaler_x = StandardScaler()\n",
    "X = scaler_x.fit_transform(X)\n",
    "scaler_y = StandardScaler()\n",
    "y = scaler_y.fit_transform(y)"
   ]
  },
  {
   "cell_type": "code",
   "execution_count": 5,
   "metadata": {},
   "outputs": [],
   "source": [
    "import tensorflow"
   ]
  },
  {
   "cell_type": "code",
   "execution_count": 6,
   "metadata": {},
   "outputs": [
    {
     "output_type": "stream",
     "name": "stdout",
     "text": [
      "WARNING:tensorflow:From /home/pedro/anaconda3/lib/python3.8/site-packages/tensorflow/python/compat/v2_compat.py:96: disable_resource_variables (from tensorflow.python.ops.variable_scope) is deprecated and will be removed in a future version.\nInstructions for updating:\nnon-resource variables are not supported in the long term\n"
     ]
    }
   ],
   "source": [
    "import tensorflow.compat.v1 as tf\n",
    "tf.disable_v2_behavior()"
   ]
  },
  {
   "cell_type": "code",
   "execution_count": 7,
   "metadata": {},
   "outputs": [
    {
     "output_type": "execute_result",
     "data": {
      "text/plain": [
       "[NumericColumn(key='x', shape=(1,), default_value=None, dtype=tf.float32, normalizer_fn=None)]"
      ]
     },
     "metadata": {},
     "execution_count": 7
    }
   ],
   "source": [
    "columns = [tf.feature_column.numeric_column('x', shape=[1])]\n",
    "columns"
   ]
  },
  {
   "source": [
    "regressor = tf.estimator.LinearRegressor(feature_columns=columns)"
   ],
   "cell_type": "code",
   "metadata": {},
   "execution_count": 8,
   "outputs": [
    {
     "output_type": "stream",
     "name": "stdout",
     "text": [
      "INFO:tensorflow:Using default config.\n",
      "WARNING:tensorflow:Using temporary folder as model directory: /tmp/tmp18izfsy9\n",
      "INFO:tensorflow:Using config: {'_model_dir': '/tmp/tmp18izfsy9', '_tf_random_seed': None, '_save_summary_steps': 100, '_save_checkpoints_steps': None, '_save_checkpoints_secs': 600, '_session_config': allow_soft_placement: true\n",
      "graph_options {\n",
      "  rewrite_options {\n",
      "    meta_optimizer_iterations: ONE\n",
      "  }\n",
      "}\n",
      ", '_keep_checkpoint_max': 5, '_keep_checkpoint_every_n_hours': 10000, '_log_step_count_steps': 100, '_train_distribute': None, '_device_fn': None, '_protocol': None, '_eval_distribute': None, '_experimental_distribute': None, '_experimental_max_worker_delay_secs': None, '_session_creation_timeout_secs': 7200, '_service': None, '_cluster_spec': ClusterSpec({}), '_task_type': 'worker', '_task_id': 0, '_global_id_in_cluster': 0, '_master': '', '_evaluation_master': '', '_is_chief': True, '_num_ps_replicas': 0, '_num_worker_replicas': 1}\n"
     ]
    }
   ]
  },
  {
   "cell_type": "code",
   "execution_count": 9,
   "metadata": {},
   "outputs": [],
   "source": [
    "from sklearn.model_selection import train_test_split\n",
    "X_train, X_test, y_train, y_test = train_test_split(X, y, test_size=0.3)"
   ]
  },
  {
   "cell_type": "code",
   "execution_count": 10,
   "metadata": {},
   "outputs": [
    {
     "output_type": "execute_result",
     "data": {
      "text/plain": [
       "(15129, 1)"
      ]
     },
     "metadata": {},
     "execution_count": 10
    }
   ],
   "source": [
    "X_train.shape"
   ]
  },
  {
   "cell_type": "code",
   "execution_count": 11,
   "metadata": {},
   "outputs": [
    {
     "output_type": "execute_result",
     "data": {
      "text/plain": [
       "(6484, 1)"
      ]
     },
     "metadata": {},
     "execution_count": 11
    }
   ],
   "source": [
    "X_test.shape"
   ]
  },
  {
   "cell_type": "code",
   "execution_count": 12,
   "metadata": {},
   "outputs": [],
   "source": [
    "func_training = tf.estimator.inputs.numpy_input_fn({'x': X_train}, y_train, batch_size=32, num_epochs=None, shuffle=True)"
   ]
  },
  {
   "cell_type": "code",
   "execution_count": 13,
   "metadata": {},
   "outputs": [],
   "source": [
    "func_test = tf.estimator.inputs.numpy_input_fn({'x': X_test}, y_test, batch_size=32, num_epochs=1000, shuffle=False)"
   ]
  },
  {
   "cell_type": "code",
   "execution_count": 16,
   "metadata": {},
   "outputs": [
    {
     "output_type": "stream",
     "name": "stdout",
     "text": [
      "INFO:tensorflow:Calling model_fn.\n",
      "INFO:tensorflow:Done calling model_fn.\n",
      "INFO:tensorflow:Create CheckpointSaverHook.\n",
      "INFO:tensorflow:Graph was finalized.\n",
      "INFO:tensorflow:Restoring parameters from /tmp/tmp18izfsy9/model.ckpt-20000\n",
      "INFO:tensorflow:Running local_init_op.\n",
      "INFO:tensorflow:Done running local_init_op.\n",
      "INFO:tensorflow:Calling checkpoint listeners before saving checkpoint 20000...\n",
      "INFO:tensorflow:Saving checkpoints for 20000 into /tmp/tmp18izfsy9/model.ckpt.\n",
      "INFO:tensorflow:Calling checkpoint listeners after saving checkpoint 20000...\n",
      "INFO:tensorflow:loss = 22.740007, step = 20001\n",
      "INFO:tensorflow:global_step/sec: 706.859\n",
      "INFO:tensorflow:loss = 6.7211494, step = 20101 (0.143 sec)\n",
      "INFO:tensorflow:global_step/sec: 806.414\n",
      "INFO:tensorflow:loss = 10.475578, step = 20201 (0.123 sec)\n",
      "INFO:tensorflow:global_step/sec: 709.125\n",
      "INFO:tensorflow:loss = 7.8237753, step = 20301 (0.146 sec)\n",
      "INFO:tensorflow:global_step/sec: 763.303\n",
      "INFO:tensorflow:loss = 8.205025, step = 20401 (0.126 sec)\n",
      "INFO:tensorflow:global_step/sec: 687.131\n",
      "INFO:tensorflow:loss = 7.0705223, step = 20501 (0.145 sec)\n",
      "INFO:tensorflow:global_step/sec: 731.515\n",
      "INFO:tensorflow:loss = 8.868288, step = 20601 (0.136 sec)\n",
      "INFO:tensorflow:global_step/sec: 714.215\n",
      "INFO:tensorflow:loss = 10.683872, step = 20701 (0.143 sec)\n",
      "INFO:tensorflow:global_step/sec: 737.533\n",
      "INFO:tensorflow:loss = 5.287832, step = 20801 (0.132 sec)\n",
      "INFO:tensorflow:global_step/sec: 861.953\n",
      "INFO:tensorflow:loss = 11.845833, step = 20901 (0.117 sec)\n",
      "INFO:tensorflow:global_step/sec: 798.015\n",
      "INFO:tensorflow:loss = 8.06892, step = 21001 (0.124 sec)\n",
      "INFO:tensorflow:global_step/sec: 774.952\n",
      "INFO:tensorflow:loss = 12.380573, step = 21101 (0.129 sec)\n",
      "INFO:tensorflow:global_step/sec: 856.563\n",
      "INFO:tensorflow:loss = 7.838871, step = 21201 (0.117 sec)\n",
      "INFO:tensorflow:global_step/sec: 787.033\n",
      "INFO:tensorflow:loss = 26.196115, step = 21301 (0.128 sec)\n",
      "INFO:tensorflow:global_step/sec: 845.322\n",
      "INFO:tensorflow:loss = 15.937376, step = 21401 (0.118 sec)\n",
      "INFO:tensorflow:global_step/sec: 924.179\n",
      "INFO:tensorflow:loss = 13.811396, step = 21501 (0.108 sec)\n",
      "INFO:tensorflow:global_step/sec: 781.254\n",
      "INFO:tensorflow:loss = 9.222186, step = 21601 (0.128 sec)\n",
      "INFO:tensorflow:global_step/sec: 674.16\n",
      "INFO:tensorflow:loss = 9.461561, step = 21701 (0.149 sec)\n",
      "INFO:tensorflow:global_step/sec: 729.574\n",
      "INFO:tensorflow:loss = 6.9639482, step = 21801 (0.135 sec)\n",
      "INFO:tensorflow:global_step/sec: 812.772\n",
      "INFO:tensorflow:loss = 17.660343, step = 21901 (0.124 sec)\n",
      "INFO:tensorflow:global_step/sec: 686.18\n",
      "INFO:tensorflow:loss = 12.19204, step = 22001 (0.144 sec)\n",
      "INFO:tensorflow:global_step/sec: 714.075\n",
      "INFO:tensorflow:loss = 8.794561, step = 22101 (0.141 sec)\n",
      "INFO:tensorflow:global_step/sec: 718.413\n",
      "INFO:tensorflow:loss = 9.837065, step = 22201 (0.142 sec)\n",
      "INFO:tensorflow:global_step/sec: 695.864\n",
      "INFO:tensorflow:loss = 8.356715, step = 22301 (0.143 sec)\n",
      "INFO:tensorflow:global_step/sec: 859.871\n",
      "INFO:tensorflow:loss = 12.982282, step = 22401 (0.114 sec)\n",
      "INFO:tensorflow:global_step/sec: 618.782\n",
      "INFO:tensorflow:loss = 14.081272, step = 22501 (0.165 sec)\n",
      "INFO:tensorflow:global_step/sec: 726.79\n",
      "INFO:tensorflow:loss = 10.959057, step = 22601 (0.134 sec)\n",
      "INFO:tensorflow:global_step/sec: 647.641\n",
      "INFO:tensorflow:loss = 21.855597, step = 22701 (0.154 sec)\n",
      "INFO:tensorflow:global_step/sec: 707.417\n",
      "INFO:tensorflow:loss = 23.528564, step = 22801 (0.142 sec)\n",
      "INFO:tensorflow:global_step/sec: 698.931\n",
      "INFO:tensorflow:loss = 8.165578, step = 22901 (0.144 sec)\n",
      "INFO:tensorflow:global_step/sec: 687.365\n",
      "INFO:tensorflow:loss = 26.601938, step = 23001 (0.144 sec)\n",
      "INFO:tensorflow:global_step/sec: 728.56\n",
      "INFO:tensorflow:loss = 5.102481, step = 23101 (0.140 sec)\n",
      "INFO:tensorflow:global_step/sec: 491.198\n",
      "INFO:tensorflow:loss = 10.229023, step = 23201 (0.201 sec)\n",
      "INFO:tensorflow:global_step/sec: 658.364\n",
      "INFO:tensorflow:loss = 7.9868526, step = 23301 (0.152 sec)\n",
      "INFO:tensorflow:global_step/sec: 787.562\n",
      "INFO:tensorflow:loss = 11.818607, step = 23401 (0.128 sec)\n",
      "INFO:tensorflow:global_step/sec: 641.438\n",
      "INFO:tensorflow:loss = 17.41392, step = 23501 (0.157 sec)\n",
      "INFO:tensorflow:global_step/sec: 774.144\n",
      "INFO:tensorflow:loss = 23.063782, step = 23601 (0.127 sec)\n",
      "INFO:tensorflow:global_step/sec: 695.06\n",
      "INFO:tensorflow:loss = 9.21068, step = 23701 (0.147 sec)\n",
      "INFO:tensorflow:global_step/sec: 662.327\n",
      "INFO:tensorflow:loss = 88.93201, step = 23801 (0.150 sec)\n",
      "INFO:tensorflow:global_step/sec: 673.969\n",
      "INFO:tensorflow:loss = 5.5020647, step = 23901 (0.148 sec)\n",
      "INFO:tensorflow:global_step/sec: 978.489\n",
      "INFO:tensorflow:loss = 12.465031, step = 24001 (0.102 sec)\n",
      "INFO:tensorflow:global_step/sec: 684.706\n",
      "INFO:tensorflow:loss = 10.629465, step = 24101 (0.149 sec)\n",
      "INFO:tensorflow:global_step/sec: 622.152\n",
      "INFO:tensorflow:loss = 19.007748, step = 24201 (0.158 sec)\n",
      "INFO:tensorflow:global_step/sec: 681.537\n",
      "INFO:tensorflow:loss = 7.7245054, step = 24301 (0.147 sec)\n",
      "INFO:tensorflow:global_step/sec: 854.784\n",
      "INFO:tensorflow:loss = 45.279278, step = 24401 (0.115 sec)\n",
      "INFO:tensorflow:global_step/sec: 877.055\n",
      "INFO:tensorflow:loss = 13.144445, step = 24501 (0.114 sec)\n",
      "INFO:tensorflow:global_step/sec: 863.712\n",
      "INFO:tensorflow:loss = 76.595924, step = 24601 (0.116 sec)\n",
      "INFO:tensorflow:global_step/sec: 908.66\n",
      "INFO:tensorflow:loss = 13.137966, step = 24701 (0.110 sec)\n",
      "INFO:tensorflow:global_step/sec: 842.487\n",
      "INFO:tensorflow:loss = 8.575373, step = 24801 (0.120 sec)\n",
      "INFO:tensorflow:global_step/sec: 965.588\n",
      "INFO:tensorflow:loss = 10.81483, step = 24901 (0.102 sec)\n",
      "INFO:tensorflow:global_step/sec: 966.004\n",
      "INFO:tensorflow:loss = 24.803658, step = 25001 (0.103 sec)\n",
      "INFO:tensorflow:global_step/sec: 969.165\n",
      "INFO:tensorflow:loss = 7.586619, step = 25101 (0.104 sec)\n",
      "INFO:tensorflow:global_step/sec: 891.696\n",
      "INFO:tensorflow:loss = 9.040085, step = 25201 (0.112 sec)\n",
      "INFO:tensorflow:global_step/sec: 909.721\n",
      "INFO:tensorflow:loss = 21.747976, step = 25301 (0.111 sec)\n",
      "INFO:tensorflow:global_step/sec: 855.945\n",
      "INFO:tensorflow:loss = 8.129246, step = 25401 (0.118 sec)\n",
      "INFO:tensorflow:global_step/sec: 959.821\n",
      "INFO:tensorflow:loss = 14.236114, step = 25501 (0.102 sec)\n",
      "INFO:tensorflow:global_step/sec: 916.119\n",
      "INFO:tensorflow:loss = 17.37758, step = 25601 (0.110 sec)\n",
      "INFO:tensorflow:global_step/sec: 915.355\n",
      "INFO:tensorflow:loss = 5.6240463, step = 25701 (0.108 sec)\n",
      "INFO:tensorflow:global_step/sec: 963.36\n",
      "INFO:tensorflow:loss = 40.597614, step = 25801 (0.104 sec)\n",
      "INFO:tensorflow:global_step/sec: 1069.4\n",
      "INFO:tensorflow:loss = 13.049872, step = 25901 (0.094 sec)\n",
      "INFO:tensorflow:global_step/sec: 1042.69\n",
      "INFO:tensorflow:loss = 8.306677, step = 26001 (0.096 sec)\n",
      "INFO:tensorflow:global_step/sec: 887.58\n",
      "INFO:tensorflow:loss = 18.791113, step = 26101 (0.113 sec)\n",
      "INFO:tensorflow:global_step/sec: 864.318\n",
      "INFO:tensorflow:loss = 9.33865, step = 26201 (0.117 sec)\n",
      "INFO:tensorflow:global_step/sec: 695.583\n",
      "INFO:tensorflow:loss = 8.395718, step = 26301 (0.143 sec)\n",
      "INFO:tensorflow:global_step/sec: 630.81\n",
      "INFO:tensorflow:loss = 47.05726, step = 26401 (0.162 sec)\n",
      "INFO:tensorflow:global_step/sec: 616.959\n",
      "INFO:tensorflow:loss = 19.072111, step = 26501 (0.159 sec)\n",
      "INFO:tensorflow:global_step/sec: 853.109\n",
      "INFO:tensorflow:loss = 14.158507, step = 26601 (0.117 sec)\n",
      "INFO:tensorflow:global_step/sec: 940.543\n",
      "INFO:tensorflow:loss = 10.013578, step = 26701 (0.106 sec)\n",
      "INFO:tensorflow:global_step/sec: 851.694\n",
      "INFO:tensorflow:loss = 12.768211, step = 26801 (0.117 sec)\n",
      "INFO:tensorflow:global_step/sec: 1104.42\n",
      "INFO:tensorflow:loss = 7.5493245, step = 26901 (0.091 sec)\n",
      "INFO:tensorflow:global_step/sec: 1030.82\n",
      "INFO:tensorflow:loss = 17.943722, step = 27001 (0.096 sec)\n",
      "INFO:tensorflow:global_step/sec: 860.783\n",
      "INFO:tensorflow:loss = 11.172407, step = 27101 (0.116 sec)\n",
      "INFO:tensorflow:global_step/sec: 780.731\n",
      "INFO:tensorflow:loss = 13.8423, step = 27201 (0.131 sec)\n",
      "INFO:tensorflow:global_step/sec: 924.379\n",
      "INFO:tensorflow:loss = 12.155666, step = 27301 (0.105 sec)\n",
      "INFO:tensorflow:global_step/sec: 952.186\n",
      "INFO:tensorflow:loss = 12.939359, step = 27401 (0.106 sec)\n",
      "INFO:tensorflow:global_step/sec: 840.365\n",
      "INFO:tensorflow:loss = 10.998997, step = 27501 (0.120 sec)\n",
      "INFO:tensorflow:global_step/sec: 641.117\n",
      "INFO:tensorflow:loss = 14.641165, step = 27601 (0.156 sec)\n",
      "INFO:tensorflow:global_step/sec: 974.529\n",
      "INFO:tensorflow:loss = 49.913246, step = 27701 (0.101 sec)\n",
      "INFO:tensorflow:global_step/sec: 936.963\n",
      "INFO:tensorflow:loss = 23.170742, step = 27801 (0.108 sec)\n",
      "INFO:tensorflow:global_step/sec: 780.256\n",
      "INFO:tensorflow:loss = 16.312485, step = 27901 (0.127 sec)\n",
      "INFO:tensorflow:global_step/sec: 877.721\n",
      "INFO:tensorflow:loss = 7.2477407, step = 28001 (0.114 sec)\n",
      "INFO:tensorflow:global_step/sec: 654.206\n",
      "INFO:tensorflow:loss = 13.778643, step = 28101 (0.153 sec)\n",
      "INFO:tensorflow:global_step/sec: 841.41\n",
      "INFO:tensorflow:loss = 15.734978, step = 28201 (0.119 sec)\n",
      "INFO:tensorflow:global_step/sec: 913.931\n",
      "INFO:tensorflow:loss = 5.8381424, step = 28301 (0.112 sec)\n",
      "INFO:tensorflow:global_step/sec: 843.559\n",
      "INFO:tensorflow:loss = 16.30023, step = 28401 (0.117 sec)\n",
      "INFO:tensorflow:global_step/sec: 665.261\n",
      "INFO:tensorflow:loss = 11.327599, step = 28501 (0.150 sec)\n",
      "INFO:tensorflow:global_step/sec: 978.015\n",
      "INFO:tensorflow:loss = 27.433321, step = 28601 (0.103 sec)\n",
      "INFO:tensorflow:global_step/sec: 871.971\n",
      "INFO:tensorflow:loss = 12.378491, step = 28701 (0.115 sec)\n",
      "INFO:tensorflow:global_step/sec: 786.55\n",
      "INFO:tensorflow:loss = 11.531812, step = 28801 (0.129 sec)\n",
      "INFO:tensorflow:global_step/sec: 651.999\n",
      "INFO:tensorflow:loss = 141.91019, step = 28901 (0.151 sec)\n",
      "INFO:tensorflow:global_step/sec: 701.75\n",
      "INFO:tensorflow:loss = 22.069597, step = 29001 (0.146 sec)\n",
      "INFO:tensorflow:global_step/sec: 588.659\n",
      "INFO:tensorflow:loss = 17.193283, step = 29101 (0.167 sec)\n",
      "INFO:tensorflow:global_step/sec: 887.152\n",
      "INFO:tensorflow:loss = 63.550274, step = 29201 (0.115 sec)\n",
      "INFO:tensorflow:global_step/sec: 875.861\n",
      "INFO:tensorflow:loss = 14.782824, step = 29301 (0.112 sec)\n",
      "INFO:tensorflow:global_step/sec: 886.026\n",
      "INFO:tensorflow:loss = 25.252644, step = 29401 (0.113 sec)\n",
      "INFO:tensorflow:global_step/sec: 689.911\n",
      "INFO:tensorflow:loss = 11.403757, step = 29501 (0.145 sec)\n",
      "INFO:tensorflow:global_step/sec: 642.757\n",
      "INFO:tensorflow:loss = 10.836859, step = 29601 (0.158 sec)\n",
      "INFO:tensorflow:global_step/sec: 691.713\n",
      "INFO:tensorflow:loss = 24.340849, step = 29701 (0.144 sec)\n",
      "INFO:tensorflow:global_step/sec: 715.296\n",
      "INFO:tensorflow:loss = 7.8697157, step = 29801 (0.138 sec)\n",
      "INFO:tensorflow:global_step/sec: 822.506\n",
      "INFO:tensorflow:loss = 29.780035, step = 29901 (0.123 sec)\n",
      "INFO:tensorflow:Calling checkpoint listeners before saving checkpoint 30000...\n",
      "INFO:tensorflow:Saving checkpoints for 30000 into /tmp/tmp18izfsy9/model.ckpt.\n",
      "INFO:tensorflow:Calling checkpoint listeners after saving checkpoint 30000...\n",
      "INFO:tensorflow:Loss for final step: 9.226322.\n"
     ]
    },
    {
     "output_type": "execute_result",
     "data": {
      "text/plain": [
       "<tensorflow_estimator.python.estimator.canned.linear.LinearRegressor at 0x7fb245813940>"
      ]
     },
     "metadata": {},
     "execution_count": 16
    }
   ],
   "source": [
    "regressor.train(input_fn=func_training, steps=10000)"
   ]
  },
  {
   "cell_type": "code",
   "execution_count": 17,
   "metadata": {},
   "outputs": [
    {
     "output_type": "stream",
     "name": "stdout",
     "text": [
      "INFO:tensorflow:Calling model_fn.\n",
      "INFO:tensorflow:Done calling model_fn.\n",
      "INFO:tensorflow:Starting evaluation at 2020-10-14T20:17:41Z\n",
      "INFO:tensorflow:Graph was finalized.\n",
      "INFO:tensorflow:Restoring parameters from /tmp/tmp18izfsy9/model.ckpt-30000\n",
      "INFO:tensorflow:Running local_init_op.\n",
      "INFO:tensorflow:Done running local_init_op.\n",
      "INFO:tensorflow:Evaluation [1000/10000]\n",
      "INFO:tensorflow:Evaluation [2000/10000]\n",
      "INFO:tensorflow:Evaluation [3000/10000]\n",
      "INFO:tensorflow:Evaluation [4000/10000]\n",
      "INFO:tensorflow:Evaluation [5000/10000]\n",
      "INFO:tensorflow:Evaluation [6000/10000]\n",
      "INFO:tensorflow:Evaluation [7000/10000]\n",
      "INFO:tensorflow:Evaluation [8000/10000]\n",
      "INFO:tensorflow:Evaluation [9000/10000]\n",
      "INFO:tensorflow:Evaluation [10000/10000]\n",
      "INFO:tensorflow:Inference Time : 17.71253s\n",
      "INFO:tensorflow:Finished evaluation at 2020-10-14-20:17:59\n",
      "INFO:tensorflow:Saving dict for global step 30000: average_loss = 0.5087494, global_step = 30000, label/mean = -0.00090695947, loss = 16.279982, prediction/mean = -0.007547772\n",
      "INFO:tensorflow:Saving 'checkpoint_path' summary for global step 30000: /tmp/tmp18izfsy9/model.ckpt-30000\n"
     ]
    }
   ],
   "source": [
    "# Para visualizar métricas\n",
    "metrics_training = regressor.evaluate(input_fn=func_training, steps=10000)"
   ]
  },
  {
   "cell_type": "code",
   "execution_count": 18,
   "metadata": {},
   "outputs": [
    {
     "output_type": "stream",
     "name": "stdout",
     "text": [
      "INFO:tensorflow:Calling model_fn.\n",
      "INFO:tensorflow:Done calling model_fn.\n",
      "INFO:tensorflow:Starting evaluation at 2020-10-14T20:18:34Z\n",
      "INFO:tensorflow:Graph was finalized.\n",
      "INFO:tensorflow:Restoring parameters from /tmp/tmp18izfsy9/model.ckpt-30000\n",
      "INFO:tensorflow:Running local_init_op.\n",
      "INFO:tensorflow:Done running local_init_op.\n",
      "INFO:tensorflow:Evaluation [1000/10000]\n",
      "INFO:tensorflow:Evaluation [2000/10000]\n",
      "INFO:tensorflow:Evaluation [3000/10000]\n",
      "INFO:tensorflow:Evaluation [4000/10000]\n",
      "INFO:tensorflow:Evaluation [5000/10000]\n",
      "INFO:tensorflow:Evaluation [6000/10000]\n",
      "INFO:tensorflow:Evaluation [7000/10000]\n",
      "INFO:tensorflow:Evaluation [8000/10000]\n",
      "INFO:tensorflow:Evaluation [9000/10000]\n",
      "INFO:tensorflow:Evaluation [10000/10000]\n",
      "INFO:tensorflow:Inference Time : 17.55002s\n",
      "INFO:tensorflow:Finished evaluation at 2020-10-14-20:18:52\n",
      "INFO:tensorflow:Saving dict for global step 30000: average_loss = 0.50347424, global_step = 30000, label/mean = 0.0026366194, loss = 16.111176, prediction/mean = 0.0021081246\n",
      "INFO:tensorflow:Saving 'checkpoint_path' summary for global step 30000: /tmp/tmp18izfsy9/model.ckpt-30000\n"
     ]
    }
   ],
   "source": [
    "metrics_test = regressor.evaluate(input_fn=func_test, steps=10000)"
   ]
  },
  {
   "cell_type": "code",
   "execution_count": 19,
   "metadata": {},
   "outputs": [
    {
     "output_type": "execute_result",
     "data": {
      "text/plain": [
       "{'average_loss': 0.5087494,\n",
       " 'label/mean': -0.00090695947,\n",
       " 'loss': 16.279982,\n",
       " 'prediction/mean': -0.007547772,\n",
       " 'global_step': 30000}"
      ]
     },
     "metadata": {},
     "execution_count": 19
    }
   ],
   "source": [
    "metrics_training"
   ]
  },
  {
   "cell_type": "code",
   "execution_count": 20,
   "metadata": {},
   "outputs": [
    {
     "output_type": "execute_result",
     "data": {
      "text/plain": [
       "{'average_loss': 0.50347424,\n",
       " 'label/mean': 0.0026366194,\n",
       " 'loss': 16.111176,\n",
       " 'prediction/mean': 0.0021081246,\n",
       " 'global_step': 30000}"
      ]
     },
     "metadata": {},
     "execution_count": 20
    }
   ],
   "source": [
    "metrics_test"
   ]
  },
  {
   "cell_type": "code",
   "execution_count": 23,
   "metadata": {},
   "outputs": [],
   "source": [
    "import numpy as np\n",
    "new_homes = np.array([[800], [900], [1000]])"
   ]
  },
  {
   "cell_type": "code",
   "execution_count": 24,
   "metadata": {},
   "outputs": [
    {
     "output_type": "execute_result",
     "data": {
      "text/plain": [
       "array([[-1.39358923],\n",
       "       [-1.28470655],\n",
       "       [-1.17582386]])"
      ]
     },
     "metadata": {},
     "execution_count": 24
    }
   ],
   "source": [
    "new_homes = scaler_x.transform(new_homes)\n",
    "new_homes"
   ]
  },
  {
   "cell_type": "code",
   "execution_count": 25,
   "metadata": {},
   "outputs": [],
   "source": [
    "func_prediction = tf.estimator.inputs.numpy_input_fn({'x': new_homes}, shuffle=False)\n",
    "predict = regressor.predict(input_fn=func_prediction)"
   ]
  },
  {
   "cell_type": "code",
   "execution_count": 26,
   "metadata": {},
   "outputs": [
    {
     "output_type": "stream",
     "name": "stdout",
     "text": [
      "INFO:tensorflow:Calling model_fn.\n",
      "INFO:tensorflow:Done calling model_fn.\n",
      "INFO:tensorflow:Graph was finalized.\n",
      "INFO:tensorflow:Restoring parameters from /tmp/tmp18izfsy9/model.ckpt-30000\n",
      "INFO:tensorflow:Running local_init_op.\n",
      "INFO:tensorflow:Done running local_init_op.\n"
     ]
    },
    {
     "output_type": "execute_result",
     "data": {
      "text/plain": [
       "[{'predictions': array([-0.9909516], dtype=float32)},\n",
       " {'predictions': array([-0.9139028], dtype=float32)},\n",
       " {'predictions': array([-0.83685386], dtype=float32)}]"
      ]
     },
     "metadata": {},
     "execution_count": 26
    }
   ],
   "source": [
    "list(predict)"
   ]
  },
  {
   "cell_type": "code",
   "execution_count": 27,
   "metadata": {},
   "outputs": [
    {
     "output_type": "stream",
     "name": "stdout",
     "text": [
      "INFO:tensorflow:Calling model_fn.\n",
      "INFO:tensorflow:Done calling model_fn.\n",
      "INFO:tensorflow:Graph was finalized.\n",
      "INFO:tensorflow:Restoring parameters from /tmp/tmp18izfsy9/model.ckpt-30000\n",
      "INFO:tensorflow:Running local_init_op.\n",
      "INFO:tensorflow:Done running local_init_op.\n",
      "[176291.27]\n",
      "[204577.33]\n",
      "[232863.42]\n"
     ]
    }
   ],
   "source": [
    "for p in regressor.predict(input_fn=func_prediction):\n",
    "    print(scaler_y.inverse_transform(p['predictions']))"
   ]
  }
 ]
}